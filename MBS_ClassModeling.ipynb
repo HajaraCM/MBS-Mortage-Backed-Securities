{
 "cells": [
  {
   "cell_type": "code",
   "execution_count": 1,
   "id": "c2a756a5",
   "metadata": {},
   "outputs": [
    {
     "name": "stdout",
     "output_type": "stream",
     "text": [
      "==================== BLOCK 1 Started! ======================\n",
      "==================== Packages Loaded ======================\n"
     ]
    }
   ],
   "source": [
    "#Loading all Packages\n",
    "print(\"==================== BLOCK 1 Started! ======================\")\n",
    "\n",
    "# Library for Data Manipulation\n",
    "import numpy as np\n",
    "import pandas as pd\n",
    "\n",
    "#Library for Data Visualization.\n",
    "import seaborn as sns\n",
    "import matplotlib.pyplot as plt\n",
    "import hvplot\n",
    "\n",
    "%matplotlib inline\n",
    "sns.set_style(\"whitegrid\")\n",
    "plt.style.use(\"fivethirtyeight\")\n",
    "\n",
    "# Library for Statistical Modelling\n",
    "from sklearn.preprocessing import LabelEncoder\n",
    "from sklearn.preprocessing import StandardScaler\n",
    "from imblearn.combine import SMOTEENN\n",
    "from sklearn.metrics import confusion_matrix, accuracy_score, classification_report, roc_auc_score, precision_recall_curve, roc_curve\n",
    "from sklearn.model_selection import train_test_split, GridSearchCV\n",
    "from sklearn.linear_model import LogisticRegression\n",
    "from sklearn.naive_bayes import GaussianNB\n",
    "from sklearn.tree import DecisionTreeClassifier\n",
    "from lightgbm import LGBMClassifier\n",
    "from sklearn.svm import SVC\n",
    "\n",
    "\n",
    "\n",
    "print(\"==================== Packages Loaded ======================\")\n",
    "\n",
    "# Library for Ignore the warnings\n",
    "import warnings\n",
    "warnings.filterwarnings('always')\n",
    "warnings.filterwarnings('ignore')"
   ]
  },
  {
   "cell_type": "markdown",
   "id": "3ed4dd91",
   "metadata": {},
   "source": [
    "<div style=\"text-align: center; background-color: yellow; padding: 10px;\">\n",
    "    <h2 style=\"font-weight: bold;\">LOADING DATASET</h2>\n",
    "</div>"
   ]
  },
  {
   "cell_type": "code",
   "execution_count": 2,
   "id": "88b0b865",
   "metadata": {},
   "outputs": [],
   "source": [
    "data = pd.read_csv(r'MSB-Mortgage-Backed-Securities-Pipeline-main-LoanExport-Revised1.csv')"
   ]
  },
  {
   "cell_type": "code",
   "execution_count": 3,
   "id": "306f4039",
   "metadata": {},
   "outputs": [
    {
     "data": {
      "text/html": [
       "<div>\n",
       "<style scoped>\n",
       "    .dataframe tbody tr th:only-of-type {\n",
       "        vertical-align: middle;\n",
       "    }\n",
       "\n",
       "    .dataframe tbody tr th {\n",
       "        vertical-align: top;\n",
       "    }\n",
       "\n",
       "    .dataframe thead th {\n",
       "        text-align: right;\n",
       "    }\n",
       "</style>\n",
       "<table border=\"1\" class=\"dataframe\">\n",
       "  <thead>\n",
       "    <tr style=\"text-align: right;\">\n",
       "      <th></th>\n",
       "      <th>MSA</th>\n",
       "      <th>MIP</th>\n",
       "      <th>Units</th>\n",
       "      <th>OCLTV</th>\n",
       "      <th>DTI</th>\n",
       "      <th>OrigUPB</th>\n",
       "      <th>OrigInterestRate</th>\n",
       "      <th>Channel</th>\n",
       "      <th>PPM</th>\n",
       "      <th>PropertyState</th>\n",
       "      <th>...</th>\n",
       "      <th>MaturityYear</th>\n",
       "      <th>MaturityMonth</th>\n",
       "      <th>IsFirstTimeHomebuyer</th>\n",
       "      <th>LTV_Range</th>\n",
       "      <th>CreditRange</th>\n",
       "      <th>RePayRange</th>\n",
       "      <th>LoanPurpose_N</th>\n",
       "      <th>LoanPurpose_P</th>\n",
       "      <th>Occupancy_O</th>\n",
       "      <th>Occupancy_S</th>\n",
       "    </tr>\n",
       "  </thead>\n",
       "  <tbody>\n",
       "    <tr>\n",
       "      <th>0</th>\n",
       "      <td>16974</td>\n",
       "      <td>25</td>\n",
       "      <td>1</td>\n",
       "      <td>89</td>\n",
       "      <td>27</td>\n",
       "      <td>117000</td>\n",
       "      <td>6.750</td>\n",
       "      <td>3</td>\n",
       "      <td>0</td>\n",
       "      <td>15</td>\n",
       "      <td>...</td>\n",
       "      <td>2029</td>\n",
       "      <td>1</td>\n",
       "      <td>0</td>\n",
       "      <td>0</td>\n",
       "      <td>0</td>\n",
       "      <td>3</td>\n",
       "      <td>0</td>\n",
       "      <td>1</td>\n",
       "      <td>1</td>\n",
       "      <td>0</td>\n",
       "    </tr>\n",
       "    <tr>\n",
       "      <th>1</th>\n",
       "      <td>19740</td>\n",
       "      <td>0</td>\n",
       "      <td>1</td>\n",
       "      <td>73</td>\n",
       "      <td>17</td>\n",
       "      <td>109000</td>\n",
       "      <td>6.500</td>\n",
       "      <td>2</td>\n",
       "      <td>0</td>\n",
       "      <td>5</td>\n",
       "      <td>...</td>\n",
       "      <td>2029</td>\n",
       "      <td>1</td>\n",
       "      <td>0</td>\n",
       "      <td>0</td>\n",
       "      <td>0</td>\n",
       "      <td>1</td>\n",
       "      <td>1</td>\n",
       "      <td>0</td>\n",
       "      <td>1</td>\n",
       "      <td>0</td>\n",
       "    </tr>\n",
       "    <tr>\n",
       "      <th>2</th>\n",
       "      <td>29940</td>\n",
       "      <td>0</td>\n",
       "      <td>1</td>\n",
       "      <td>75</td>\n",
       "      <td>16</td>\n",
       "      <td>88000</td>\n",
       "      <td>6.875</td>\n",
       "      <td>3</td>\n",
       "      <td>0</td>\n",
       "      <td>17</td>\n",
       "      <td>...</td>\n",
       "      <td>2029</td>\n",
       "      <td>1</td>\n",
       "      <td>0</td>\n",
       "      <td>0</td>\n",
       "      <td>0</td>\n",
       "      <td>3</td>\n",
       "      <td>1</td>\n",
       "      <td>0</td>\n",
       "      <td>1</td>\n",
       "      <td>0</td>\n",
       "    </tr>\n",
       "    <tr>\n",
       "      <th>3</th>\n",
       "      <td>31084</td>\n",
       "      <td>0</td>\n",
       "      <td>1</td>\n",
       "      <td>76</td>\n",
       "      <td>14</td>\n",
       "      <td>160000</td>\n",
       "      <td>6.875</td>\n",
       "      <td>2</td>\n",
       "      <td>0</td>\n",
       "      <td>4</td>\n",
       "      <td>...</td>\n",
       "      <td>2029</td>\n",
       "      <td>1</td>\n",
       "      <td>0</td>\n",
       "      <td>0</td>\n",
       "      <td>0</td>\n",
       "      <td>0</td>\n",
       "      <td>1</td>\n",
       "      <td>0</td>\n",
       "      <td>1</td>\n",
       "      <td>0</td>\n",
       "    </tr>\n",
       "    <tr>\n",
       "      <th>4</th>\n",
       "      <td>35644</td>\n",
       "      <td>0</td>\n",
       "      <td>1</td>\n",
       "      <td>78</td>\n",
       "      <td>18</td>\n",
       "      <td>109000</td>\n",
       "      <td>7.125</td>\n",
       "      <td>2</td>\n",
       "      <td>0</td>\n",
       "      <td>32</td>\n",
       "      <td>...</td>\n",
       "      <td>2029</td>\n",
       "      <td>1</td>\n",
       "      <td>0</td>\n",
       "      <td>0</td>\n",
       "      <td>0</td>\n",
       "      <td>3</td>\n",
       "      <td>1</td>\n",
       "      <td>0</td>\n",
       "      <td>1</td>\n",
       "      <td>0</td>\n",
       "    </tr>\n",
       "  </tbody>\n",
       "</table>\n",
       "<p>5 rows × 30 columns</p>\n",
       "</div>"
      ],
      "text/plain": [
       "     MSA  MIP  Units  OCLTV  DTI  OrigUPB  OrigInterestRate  Channel  PPM  \\\n",
       "0  16974   25      1     89   27   117000             6.750        3    0   \n",
       "1  19740    0      1     73   17   109000             6.500        2    0   \n",
       "2  29940    0      1     75   16    88000             6.875        3    0   \n",
       "3  31084    0      1     76   14   160000             6.875        2    0   \n",
       "4  35644    0      1     78   18   109000             7.125        2    0   \n",
       "\n",
       "   PropertyState  ...  MaturityYear  MaturityMonth  IsFirstTimeHomebuyer  \\\n",
       "0             15  ...          2029              1                     0   \n",
       "1              5  ...          2029              1                     0   \n",
       "2             17  ...          2029              1                     0   \n",
       "3              4  ...          2029              1                     0   \n",
       "4             32  ...          2029              1                     0   \n",
       "\n",
       "   LTV_Range  CreditRange  RePayRange  LoanPurpose_N  LoanPurpose_P  \\\n",
       "0          0            0           3              0              1   \n",
       "1          0            0           1              1              0   \n",
       "2          0            0           3              1              0   \n",
       "3          0            0           0              1              0   \n",
       "4          0            0           3              1              0   \n",
       "\n",
       "   Occupancy_O  Occupancy_S  \n",
       "0            1            0  \n",
       "1            1            0  \n",
       "2            1            0  \n",
       "3            1            0  \n",
       "4            1            0  \n",
       "\n",
       "[5 rows x 30 columns]"
      ]
     },
     "execution_count": 3,
     "metadata": {},
     "output_type": "execute_result"
    }
   ],
   "source": [
    "data.head()"
   ]
  },
  {
   "cell_type": "code",
   "execution_count": 4,
   "id": "c14a1e99",
   "metadata": {},
   "outputs": [
    {
     "data": {
      "text/html": [
       "<div>\n",
       "<style scoped>\n",
       "    .dataframe tbody tr th:only-of-type {\n",
       "        vertical-align: middle;\n",
       "    }\n",
       "\n",
       "    .dataframe tbody tr th {\n",
       "        vertical-align: top;\n",
       "    }\n",
       "\n",
       "    .dataframe thead th {\n",
       "        text-align: right;\n",
       "    }\n",
       "</style>\n",
       "<table border=\"1\" class=\"dataframe\">\n",
       "  <thead>\n",
       "    <tr style=\"text-align: right;\">\n",
       "      <th></th>\n",
       "      <th>MSA</th>\n",
       "      <th>MIP</th>\n",
       "      <th>Units</th>\n",
       "      <th>OCLTV</th>\n",
       "      <th>DTI</th>\n",
       "      <th>OrigUPB</th>\n",
       "      <th>OrigInterestRate</th>\n",
       "      <th>Channel</th>\n",
       "      <th>PPM</th>\n",
       "      <th>PropertyState</th>\n",
       "      <th>...</th>\n",
       "      <th>MaturityYear</th>\n",
       "      <th>MaturityMonth</th>\n",
       "      <th>IsFirstTimeHomebuyer</th>\n",
       "      <th>LTV_Range</th>\n",
       "      <th>CreditRange</th>\n",
       "      <th>RePayRange</th>\n",
       "      <th>LoanPurpose_N</th>\n",
       "      <th>LoanPurpose_P</th>\n",
       "      <th>Occupancy_O</th>\n",
       "      <th>Occupancy_S</th>\n",
       "    </tr>\n",
       "  </thead>\n",
       "  <tbody>\n",
       "    <tr>\n",
       "      <th>291398</th>\n",
       "      <td>37964</td>\n",
       "      <td>0</td>\n",
       "      <td>1</td>\n",
       "      <td>60</td>\n",
       "      <td>32</td>\n",
       "      <td>90000</td>\n",
       "      <td>7.000</td>\n",
       "      <td>2</td>\n",
       "      <td>0</td>\n",
       "      <td>39</td>\n",
       "      <td>...</td>\n",
       "      <td>2029</td>\n",
       "      <td>2</td>\n",
       "      <td>0</td>\n",
       "      <td>0</td>\n",
       "      <td>0</td>\n",
       "      <td>0</td>\n",
       "      <td>1</td>\n",
       "      <td>0</td>\n",
       "      <td>1</td>\n",
       "      <td>0</td>\n",
       "    </tr>\n",
       "    <tr>\n",
       "      <th>291399</th>\n",
       "      <td>35644</td>\n",
       "      <td>0</td>\n",
       "      <td>1</td>\n",
       "      <td>73</td>\n",
       "      <td>0</td>\n",
       "      <td>267000</td>\n",
       "      <td>6.375</td>\n",
       "      <td>1</td>\n",
       "      <td>0</td>\n",
       "      <td>35</td>\n",
       "      <td>...</td>\n",
       "      <td>2029</td>\n",
       "      <td>4</td>\n",
       "      <td>0</td>\n",
       "      <td>0</td>\n",
       "      <td>0</td>\n",
       "      <td>3</td>\n",
       "      <td>0</td>\n",
       "      <td>1</td>\n",
       "      <td>1</td>\n",
       "      <td>0</td>\n",
       "    </tr>\n",
       "    <tr>\n",
       "      <th>291400</th>\n",
       "      <td>42044</td>\n",
       "      <td>0</td>\n",
       "      <td>1</td>\n",
       "      <td>73</td>\n",
       "      <td>31</td>\n",
       "      <td>87000</td>\n",
       "      <td>5.625</td>\n",
       "      <td>2</td>\n",
       "      <td>0</td>\n",
       "      <td>4</td>\n",
       "      <td>...</td>\n",
       "      <td>2029</td>\n",
       "      <td>4</td>\n",
       "      <td>0</td>\n",
       "      <td>0</td>\n",
       "      <td>0</td>\n",
       "      <td>0</td>\n",
       "      <td>1</td>\n",
       "      <td>0</td>\n",
       "      <td>1</td>\n",
       "      <td>0</td>\n",
       "    </tr>\n",
       "    <tr>\n",
       "      <th>291401</th>\n",
       "      <td>37964</td>\n",
       "      <td>0</td>\n",
       "      <td>1</td>\n",
       "      <td>80</td>\n",
       "      <td>54</td>\n",
       "      <td>88000</td>\n",
       "      <td>7.000</td>\n",
       "      <td>2</td>\n",
       "      <td>0</td>\n",
       "      <td>39</td>\n",
       "      <td>...</td>\n",
       "      <td>2029</td>\n",
       "      <td>3</td>\n",
       "      <td>0</td>\n",
       "      <td>0</td>\n",
       "      <td>0</td>\n",
       "      <td>0</td>\n",
       "      <td>0</td>\n",
       "      <td>1</td>\n",
       "      <td>0</td>\n",
       "      <td>0</td>\n",
       "    </tr>\n",
       "    <tr>\n",
       "      <th>291402</th>\n",
       "      <td>37964</td>\n",
       "      <td>0</td>\n",
       "      <td>1</td>\n",
       "      <td>47</td>\n",
       "      <td>29</td>\n",
       "      <td>70000</td>\n",
       "      <td>7.000</td>\n",
       "      <td>2</td>\n",
       "      <td>0</td>\n",
       "      <td>39</td>\n",
       "      <td>...</td>\n",
       "      <td>2029</td>\n",
       "      <td>2</td>\n",
       "      <td>0</td>\n",
       "      <td>2</td>\n",
       "      <td>0</td>\n",
       "      <td>0</td>\n",
       "      <td>0</td>\n",
       "      <td>1</td>\n",
       "      <td>1</td>\n",
       "      <td>0</td>\n",
       "    </tr>\n",
       "  </tbody>\n",
       "</table>\n",
       "<p>5 rows × 30 columns</p>\n",
       "</div>"
      ],
      "text/plain": [
       "          MSA  MIP  Units  OCLTV  DTI  OrigUPB  OrigInterestRate  Channel  \\\n",
       "291398  37964    0      1     60   32    90000             7.000        2   \n",
       "291399  35644    0      1     73    0   267000             6.375        1   \n",
       "291400  42044    0      1     73   31    87000             5.625        2   \n",
       "291401  37964    0      1     80   54    88000             7.000        2   \n",
       "291402  37964    0      1     47   29    70000             7.000        2   \n",
       "\n",
       "        PPM  PropertyState  ...  MaturityYear  MaturityMonth  \\\n",
       "291398    0             39  ...          2029              2   \n",
       "291399    0             35  ...          2029              4   \n",
       "291400    0              4  ...          2029              4   \n",
       "291401    0             39  ...          2029              3   \n",
       "291402    0             39  ...          2029              2   \n",
       "\n",
       "        IsFirstTimeHomebuyer  LTV_Range  CreditRange  RePayRange  \\\n",
       "291398                     0          0            0           0   \n",
       "291399                     0          0            0           3   \n",
       "291400                     0          0            0           0   \n",
       "291401                     0          0            0           0   \n",
       "291402                     0          2            0           0   \n",
       "\n",
       "        LoanPurpose_N  LoanPurpose_P  Occupancy_O  Occupancy_S  \n",
       "291398              1              0            1            0  \n",
       "291399              0              1            1            0  \n",
       "291400              1              0            1            0  \n",
       "291401              0              1            0            0  \n",
       "291402              0              1            1            0  \n",
       "\n",
       "[5 rows x 30 columns]"
      ]
     },
     "execution_count": 4,
     "metadata": {},
     "output_type": "execute_result"
    }
   ],
   "source": [
    "data.tail()"
   ]
  },
  {
   "cell_type": "code",
   "execution_count": 5,
   "id": "05fc0061",
   "metadata": {},
   "outputs": [
    {
     "name": "stdout",
     "output_type": "stream",
     "text": [
      "The shape of data frame: (291403, 30)\n",
      "Number of Rows in the dataframe: 291403\n",
      "Number of Columns in the dataframe: 30\n"
     ]
    }
   ],
   "source": [
    "#Print the shape of the DataFrame\n",
    "print(\"The shape of data frame:\", data.shape)\n",
    "# Print the length (number of rows) of the DataFrame\n",
    "print(\"Number of Rows in the dataframe:\", len(data))\n",
    "# Print the number of columns in the DataFrame\n",
    "print(\"Number of Columns in the dataframe:\", len(data.columns))"
   ]
  },
  {
   "cell_type": "markdown",
   "id": "672b089b",
   "metadata": {},
   "source": [
    "<div style=\"text-align: center; background-color: yellow; padding: 10px;\">\n",
    "    <h2 style=\"font-weight: bold;\">FEATURE SELECTION</h2>\n",
    "</div>"
   ]
  },
  {
   "cell_type": "markdown",
   "id": "cc1250f7",
   "metadata": {},
   "source": [
    "### <span style='color:blue'>1] TRAIN AND TEST DATASET SPLIT </span> "
   ]
  },
  {
   "cell_type": "code",
   "execution_count": 6,
   "id": "8f1be73c",
   "metadata": {},
   "outputs": [],
   "source": [
    "x= data.drop('EverDelinquent', axis=1)\n",
    "y = data.EverDelinquent\n",
    "\n",
    "x_train, x_test, y_train, y_test = train_test_split(x, y, test_size=0.2, random_state=42)"
   ]
  },
  {
   "cell_type": "markdown",
   "id": "47836ec5",
   "metadata": {},
   "source": [
    "### <span style='color:blue'>2] MUTUAL INFORMATION SCORE</span> "
   ]
  },
  {
   "cell_type": "code",
   "execution_count": 7,
   "id": "31558479",
   "metadata": {},
   "outputs": [
    {
     "data": {
      "text/plain": [
       "array([3.81909285e-03, 7.43176882e-03, 3.59831497e-02, 4.81790703e-03,\n",
       "       3.53593563e-03, 2.78618429e-03, 5.41386195e-03, 1.95371818e-02,\n",
       "       0.00000000e+00, 4.35327810e-03, 3.27929738e-02, 3.63337986e-02,\n",
       "       2.44507452e-02, 9.59069537e-03, 1.36991103e-02, 4.98040079e-01,\n",
       "       3.05866397e-02, 2.66705525e-02, 1.36553748e-02, 2.78064827e-02,\n",
       "       1.14560946e-02, 1.18197464e-04, 2.63716348e-03, 4.19614012e-02,\n",
       "       3.13851135e-02, 4.55461283e-03, 6.81376681e-03, 3.39603543e-02,\n",
       "       2.24787879e-04])"
      ]
     },
     "execution_count": 7,
     "metadata": {},
     "output_type": "execute_result"
    }
   ],
   "source": [
    "# importing library for mi score for classification \n",
    "from sklearn.feature_selection import mutual_info_classif\n",
    "# determine the mutual information\n",
    "mutual_info = mutual_info_classif(x_train, y_train)\n",
    "mutual_info"
   ]
  },
  {
   "cell_type": "code",
   "execution_count": 8,
   "id": "85a33dd8",
   "metadata": {},
   "outputs": [
    {
     "data": {
      "text/plain": [
       "MonthsDelinquent        0.498040\n",
       "CreditRange             0.041961\n",
       "OrigLoanTerm            0.036334\n",
       "Units                   0.035983\n",
       "Occupancy_O             0.033960\n",
       "PropertyType            0.032793\n",
       "RePayRange              0.031385\n",
       "MonthsInRepayment       0.030587\n",
       "MaturityYear            0.027806\n",
       "FirstPaymentYear        0.026671\n",
       "NumBorrowers            0.024451\n",
       "Channel                 0.019537\n",
       "ServicerName            0.013699\n",
       "FirstPaymentMonth       0.013655\n",
       "MaturityMonth           0.011456\n",
       "SellerName              0.009591\n",
       "MIP                     0.007432\n",
       "LoanPurpose_P           0.006814\n",
       "OrigInterestRate        0.005414\n",
       "OCLTV                   0.004818\n",
       "LoanPurpose_N           0.004555\n",
       "PropertyState           0.004353\n",
       "MSA                     0.003819\n",
       "DTI                     0.003536\n",
       "OrigUPB                 0.002786\n",
       "LTV_Range               0.002637\n",
       "Occupancy_S             0.000225\n",
       "IsFirstTimeHomebuyer    0.000118\n",
       "PPM                     0.000000\n",
       "dtype: float64"
      ]
     },
     "execution_count": 8,
     "metadata": {},
     "output_type": "execute_result"
    }
   ],
   "source": [
    "mutual_info = pd.Series(mutual_info)\n",
    "mutual_info.index = x.columns\n",
    "mutual_info.sort_values(ascending=False)"
   ]
  },
  {
   "cell_type": "code",
   "execution_count": 9,
   "id": "6fba229f",
   "metadata": {},
   "outputs": [
    {
     "data": {
      "text/plain": [
       "<AxesSubplot:>"
      ]
     },
     "execution_count": 9,
     "metadata": {},
     "output_type": "execute_result"
    },
    {
     "data": {
      "image/png": "[encoded data removed]",
      "text/plain": [
       "<Figure size 2000x800 with 1 Axes>"
      ]
     },
     "metadata": {},
     "output_type": "display_data"
    }
   ],
   "source": [
    "# plot of mi score for features\n",
    "mutual_info.sort_values(ascending=False).plot.bar(figsize=(20, 8))"
   ]
  },
  {
   "cell_type": "code",
   "execution_count": 10,
   "id": "d82b589c",
   "metadata": {},
   "outputs": [],
   "source": [
    "# For selecting best feature based on mi score\n",
    "from sklearn.feature_selection import SelectKBest\n",
    "#Now we Will select the  top 10 important features\n",
    "selector= SelectKBest(mutual_info_classif, k=10)\n",
    "x_train_selected=selector.fit_transform(x_train, y_train)\n",
    "x_test_selected=selector.transform(x_test)"
   ]
  },
  {
   "cell_type": "code",
   "execution_count": 11,
   "id": "927916e7",
   "metadata": {},
   "outputs": [
    {
     "data": {
      "text/html": [
       "<div>\n",
       "<style scoped>\n",
       "    .dataframe tbody tr th:only-of-type {\n",
       "        vertical-align: middle;\n",
       "    }\n",
       "\n",
       "    .dataframe tbody tr th {\n",
       "        vertical-align: top;\n",
       "    }\n",
       "\n",
       "    .dataframe thead th {\n",
       "        text-align: right;\n",
       "    }\n",
       "</style>\n",
       "<table border=\"1\" class=\"dataframe\">\n",
       "  <thead>\n",
       "    <tr style=\"text-align: right;\">\n",
       "      <th></th>\n",
       "      <th>Units</th>\n",
       "      <th>PropertyType</th>\n",
       "      <th>OrigLoanTerm</th>\n",
       "      <th>MonthsDelinquent</th>\n",
       "      <th>MonthsInRepayment</th>\n",
       "      <th>FirstPaymentYear</th>\n",
       "      <th>MaturityYear</th>\n",
       "      <th>CreditRange</th>\n",
       "      <th>RePayRange</th>\n",
       "      <th>Occupancy_O</th>\n",
       "    </tr>\n",
       "  </thead>\n",
       "  <tbody>\n",
       "    <tr>\n",
       "      <th>0</th>\n",
       "      <td>1.0</td>\n",
       "      <td>5.0</td>\n",
       "      <td>360.0</td>\n",
       "      <td>0.0</td>\n",
       "      <td>49.0</td>\n",
       "      <td>1999.0</td>\n",
       "      <td>2029.0</td>\n",
       "      <td>2.0</td>\n",
       "      <td>3.0</td>\n",
       "      <td>1.0</td>\n",
       "    </tr>\n",
       "    <tr>\n",
       "      <th>1</th>\n",
       "      <td>1.0</td>\n",
       "      <td>0.0</td>\n",
       "      <td>360.0</td>\n",
       "      <td>0.0</td>\n",
       "      <td>36.0</td>\n",
       "      <td>1999.0</td>\n",
       "      <td>2029.0</td>\n",
       "      <td>3.0</td>\n",
       "      <td>0.0</td>\n",
       "      <td>1.0</td>\n",
       "    </tr>\n",
       "    <tr>\n",
       "      <th>2</th>\n",
       "      <td>1.0</td>\n",
       "      <td>4.0</td>\n",
       "      <td>360.0</td>\n",
       "      <td>0.0</td>\n",
       "      <td>59.0</td>\n",
       "      <td>1999.0</td>\n",
       "      <td>2029.0</td>\n",
       "      <td>3.0</td>\n",
       "      <td>3.0</td>\n",
       "      <td>0.0</td>\n",
       "    </tr>\n",
       "    <tr>\n",
       "      <th>3</th>\n",
       "      <td>1.0</td>\n",
       "      <td>5.0</td>\n",
       "      <td>360.0</td>\n",
       "      <td>0.0</td>\n",
       "      <td>149.0</td>\n",
       "      <td>1999.0</td>\n",
       "      <td>2029.0</td>\n",
       "      <td>0.0</td>\n",
       "      <td>1.0</td>\n",
       "      <td>1.0</td>\n",
       "    </tr>\n",
       "    <tr>\n",
       "      <th>4</th>\n",
       "      <td>1.0</td>\n",
       "      <td>5.0</td>\n",
       "      <td>360.0</td>\n",
       "      <td>0.0</td>\n",
       "      <td>44.0</td>\n",
       "      <td>1999.0</td>\n",
       "      <td>2029.0</td>\n",
       "      <td>0.0</td>\n",
       "      <td>0.0</td>\n",
       "      <td>1.0</td>\n",
       "    </tr>\n",
       "  </tbody>\n",
       "</table>\n",
       "</div>"
      ],
      "text/plain": [
       "   Units  PropertyType  OrigLoanTerm  MonthsDelinquent  MonthsInRepayment  \\\n",
       "0    1.0           5.0         360.0               0.0               49.0   \n",
       "1    1.0           0.0         360.0               0.0               36.0   \n",
       "2    1.0           4.0         360.0               0.0               59.0   \n",
       "3    1.0           5.0         360.0               0.0              149.0   \n",
       "4    1.0           5.0         360.0               0.0               44.0   \n",
       "\n",
       "   FirstPaymentYear  MaturityYear  CreditRange  RePayRange  Occupancy_O  \n",
       "0            1999.0        2029.0          2.0         3.0          1.0  \n",
       "1            1999.0        2029.0          3.0         0.0          1.0  \n",
       "2            1999.0        2029.0          3.0         3.0          0.0  \n",
       "3            1999.0        2029.0          0.0         1.0          1.0  \n",
       "4            1999.0        2029.0          0.0         0.0          1.0  "
      ]
     },
     "execution_count": 11,
     "metadata": {},
     "output_type": "execute_result"
    }
   ],
   "source": [
    "selected_features=x_train.columns[selector.get_support()]\n",
    "x_beast=pd.DataFrame(x_train_selected,columns=selected_features)\n",
    "x_beast.head()"
   ]
  },
  {
   "cell_type": "code",
   "execution_count": 12,
   "id": "5deaf341",
   "metadata": {},
   "outputs": [
    {
     "data": {
      "text/plain": [
       "Index(['Units', 'PropertyType', 'OrigLoanTerm', 'MonthsDelinquent',\n",
       "       'MonthsInRepayment', 'FirstPaymentYear', 'MaturityYear', 'CreditRange',\n",
       "       'RePayRange', 'Occupancy_O'],\n",
       "      dtype='object')"
      ]
     },
     "execution_count": 12,
     "metadata": {},
     "output_type": "execute_result"
    }
   ],
   "source": [
    "selected_features=x_train.columns[selector.get_support()]\n",
    "selected_features"
   ]
  },
  {
   "cell_type": "markdown",
   "id": "1b54ca01",
   "metadata": {},
   "source": [
    "### <span style='color:blue'>3] STANDARD SCALING </span> "
   ]
  },
  {
   "cell_type": "code",
   "execution_count": 13,
   "id": "8fd4472b",
   "metadata": {},
   "outputs": [],
   "source": [
    "scaler = StandardScaler()\n",
    "x_train_scaled= scaler.fit_transform(x_train_selected)\n",
    "x_test_scaled = scaler.transform(x_test_selected)"
   ]
  },
  {
   "cell_type": "markdown",
   "id": "1ce413a6",
   "metadata": {},
   "source": [
    "<div style=\"text-align: center; background-color: yellow; padding: 10px;\">\n",
    "    <h2 style=\"font-weight: bold;\">MODEL BUILDING </h2>\n",
    "</div>"
   ]
  },
  {
   "cell_type": "markdown",
   "id": "d18b6396",
   "metadata": {},
   "source": [
    "### <span style='color:blue'>1] SMOTE </span> "
   ]
  },
  {
   "cell_type": "code",
   "execution_count": 14,
   "id": "74ff15dd",
   "metadata": {},
   "outputs": [],
   "source": [
    "from imblearn.over_sampling import SMOTE\n",
    "os=SMOTE(random_state=42)\n",
    "x_train_os,y_train_os=os.fit_resample(x_train_scaled,y_train)"
   ]
  },
  {
   "cell_type": "code",
   "execution_count": 15,
   "id": "ea1445cd",
   "metadata": {},
   "outputs": [
    {
     "name": "stdout",
     "output_type": "stream",
     "text": [
      "The number of classes before fit {} Counter({0: 186947, 1: 46175})\n",
      "The number of classes after fit {} Counter({0: 186947, 1: 186947})\n"
     ]
    }
   ],
   "source": [
    "from collections import Counter\n",
    "print(\"The number of classes before fit {}\",format(Counter(y_train)))\n",
    "print(\"The number of classes after fit {}\",format(Counter(y_train_os)))"
   ]
  },
  {
   "cell_type": "code",
   "execution_count": 16,
   "id": "f7e0dfac",
   "metadata": {},
   "outputs": [
    {
     "name": "stdout",
     "output_type": "stream",
     "text": [
      "===============TRAIN=================\n",
      "Non_Delinquent  Rate: 50.00%\n",
      "Delinquent  Rate: 50.00%\n",
      "===============TEST=================\n",
      "Non_Delinquent  Rate: 80.31%\n",
      "Delinquent  Rate: 19.69%\n"
     ]
    }
   ],
   "source": [
    "Non_Delinquent= (y_train_os.value_counts()[0] / y_train_os.shape)[0]\n",
    "Delinquent= (y_train_os.value_counts()[1] / y_train_os.shape)[0]\n",
    "\n",
    "print(\"===============TRAIN=================\")\n",
    "print(f\"Non_Delinquent  Rate: {Non_Delinquent  * 100:.2f}%\")\n",
    "print(f\"Delinquent  Rate: {Delinquent  * 100 :.2f}%\")\n",
    "\n",
    "Non_Delinquent= (y_test.value_counts()[0] / y_test.shape)[0]\n",
    "Delinquent = (y_test.value_counts()[1] / y_test.shape)[0]\n",
    "\n",
    "print(\"===============TEST=================\")\n",
    "print(f\"Non_Delinquent  Rate: {Non_Delinquent  * 100:.2f}%\")\n",
    "print(f\"Delinquent  Rate: {Delinquent  * 100 :.2f}%\")"
   ]
  },
  {
   "cell_type": "code",
   "execution_count": 17,
   "id": "82d59211",
   "metadata": {},
   "outputs": [],
   "source": [
    "def evaluate(model, x_train_os, x_test_scaled, y_train_os, y_test):\n",
    "    y_test_pred = model.predict(x_test_scaled)\n",
    "    y_train_pred = model.predict(x_train_os)\n",
    "\n",
    "    print(\"TRAINIG RESULTS: \\n===============================\")\n",
    "    clf_report = pd.DataFrame(classification_report(y_train_os, y_train_pred, output_dict=True))\n",
    "    print(f\"CONFUSION MATRIX:\\n{confusion_matrix(y_train_os, y_train_pred)}\")\n",
    "    print(f\"ACCURACY SCORE:\\n{accuracy_score(y_train_os, y_train_pred):.4f}\")\n",
    "    print(f\"CLASSIFICATION REPORT:\\n{clf_report}\")\n",
    "\n",
    "    print(\"TESTING RESULTS: \\n===============================\")\n",
    "    clf_report = pd.DataFrame(classification_report(y_test, y_test_pred, output_dict=True))\n",
    "    print(f\"CONFUSION MATRIX:\\n{confusion_matrix(y_test, y_test_pred)}\")\n",
    "    print(f\"ACCURACY SCORE:\\n{accuracy_score(y_test, y_test_pred):.4f}\")\n",
    "    print(f\"CLASSIFICATION REPORT:\\n{clf_report}\")"
   ]
  },
  {
   "cell_type": "markdown",
   "id": "c1080be0",
   "metadata": {},
   "source": [
    "<div style=\"text-align: center; background-color: yellow; padding: 10px;\">\n",
    "    <h2 style=\"font-weight: bold;\">LOGISTIC REGRESSION</h2>\n",
    "</div>"
   ]
  },
  {
   "cell_type": "code",
   "execution_count": 18,
   "id": "61da5fdb",
   "metadata": {},
   "outputs": [
    {
     "data": {
      "text/plain": [
       "LogisticRegression(random_state=42)"
      ]
     },
     "execution_count": 18,
     "metadata": {},
     "output_type": "execute_result"
    }
   ],
   "source": [
    "model_lr = LogisticRegression(random_state=42)\n",
    "model_lr.fit(x_train_scaled, y_train)"
   ]
  },
  {
   "cell_type": "code",
   "execution_count": 19,
   "id": "6898c8ee",
   "metadata": {},
   "outputs": [
    {
     "name": "stdout",
     "output_type": "stream",
     "text": [
      "TRAINIG RESULTS: \n",
      "===============================\n",
      "CONFUSION MATRIX:\n",
      "[[186947      0]\n",
      " [     0 186947]]\n",
      "ACCURACY SCORE:\n",
      "1.0000\n",
      "CLASSIFICATION REPORT:\n",
      "                  0         1  accuracy  macro avg  weighted avg\n",
      "precision       1.0       1.0       1.0        1.0           1.0\n",
      "recall          1.0       1.0       1.0        1.0           1.0\n",
      "f1-score        1.0       1.0       1.0        1.0           1.0\n",
      "support    186947.0  186947.0       1.0   373894.0      373894.0\n",
      "TESTING RESULTS: \n",
      "===============================\n",
      "CONFUSION MATRIX:\n",
      "[[46804     0]\n",
      " [    0 11477]]\n",
      "ACCURACY SCORE:\n",
      "1.0000\n",
      "CLASSIFICATION REPORT:\n",
      "                 0        1  accuracy  macro avg  weighted avg\n",
      "precision      1.0      1.0       1.0        1.0           1.0\n",
      "recall         1.0      1.0       1.0        1.0           1.0\n",
      "f1-score       1.0      1.0       1.0        1.0           1.0\n",
      "support    46804.0  11477.0       1.0    58281.0       58281.0\n"
     ]
    }
   ],
   "source": [
    "evaluate(model_lr, x_train_os, x_test_scaled, y_train_os, y_test)"
   ]
  },
  {
   "cell_type": "code",
   "execution_count": 25,
   "id": "fc0d90a4",
   "metadata": {},
   "outputs": [],
   "source": [
    "x_train_new, x_test_new, y_train_new, y_test_new = train_test_split(x, y, test_size=0.2, random_state=42)"
   ]
  },
  {
   "cell_type": "code",
   "execution_count": 26,
   "id": "4ec8a467",
   "metadata": {},
   "outputs": [],
   "source": [
    "scaler = StandardScaler()\n",
    "x_train_scale= scaler.fit_transform(x_train_new)\n",
    "x_test_scale = scaler.transform(x_test_new)"
   ]
  },
  {
   "cell_type": "code",
   "execution_count": 27,
   "id": "b9c14376",
   "metadata": {},
   "outputs": [],
   "source": [
    "from imblearn.over_sampling import SMOTE\n",
    "os=SMOTE(random_state=42)\n",
    "x_train_resample,y_train_resample=os.fit_resample(x_train_scale,y_train)"
   ]
  },
  {
   "cell_type": "code",
   "execution_count": 28,
   "id": "df3fd06a",
   "metadata": {},
   "outputs": [],
   "source": [
    "from sklearn.feature_selection import RFE\n",
    "# Feature selection with RFE\n",
    "log_reg = LogisticRegression(class_weight='balanced', max_iter=5000, penalty='l2', C=0.001)\n",
    "selector = RFE(log_reg, n_features_to_select=10, step=1)\n",
    "selector = selector.fit(x_train_resample, y_train_resample)\n",
    "selected_features = selector.support_\n",
    "X_train_selected= x_train_resample[:, selected_features]\n",
    "X_test_selected = x_test_scale[:, selected_features]\n"
   ]
  },
  {
   "cell_type": "code",
   "execution_count": 37,
   "id": "107646f2",
   "metadata": {},
   "outputs": [
    {
     "data": {
      "text/plain": [
       "LogisticRegression(C=0.001, class_weight='balanced', max_iter=5000)"
      ]
     },
     "execution_count": 37,
     "metadata": {},
     "output_type": "execute_result"
    }
   ],
   "source": [
    "log_reg.fit(X_train_selected, y_train_resample)"
   ]
  },
  {
   "cell_type": "code",
   "execution_count": 38,
   "id": "dfe7b734",
   "metadata": {},
   "outputs": [
    {
     "name": "stdout",
     "output_type": "stream",
     "text": [
      "TRAINIG RESULTS: \n",
      "===============================\n",
      "CONFUSION MATRIX:\n",
      "[[186243    704]\n",
      " [ 38349 148598]]\n",
      "ACCURACY SCORE:\n",
      "0.8956\n",
      "CLASSIFICATION REPORT:\n",
      "                       0              1  accuracy      macro avg  \\\n",
      "precision       0.829250       0.995285  0.895551       0.912268   \n",
      "recall          0.996234       0.794867  0.895551       0.895551   \n",
      "f1-score        0.905105       0.883857  0.895551       0.894481   \n",
      "support    186947.000000  186947.000000  0.895551  373894.000000   \n",
      "\n",
      "            weighted avg  \n",
      "precision       0.912268  \n",
      "recall          0.895551  \n",
      "f1-score        0.894481  \n",
      "support    373894.000000  \n",
      "TESTING RESULTS: \n",
      "===============================\n",
      "CONFUSION MATRIX:\n",
      "[[46609   195]\n",
      " [ 2828  8649]]\n",
      "ACCURACY SCORE:\n",
      "0.9481\n",
      "CLASSIFICATION REPORT:\n",
      "                      0             1  accuracy     macro avg  weighted avg\n",
      "precision      0.942796      0.977951  0.948131      0.960374      0.949719\n",
      "recall         0.995834      0.753594  0.948131      0.874714      0.948131\n",
      "f1-score       0.968589      0.851238  0.948131      0.909913      0.945480\n",
      "support    46804.000000  11477.000000  0.948131  58281.000000  58281.000000\n"
     ]
    }
   ],
   "source": [
    "evaluate(log_reg, X_train_selected, X_test_selected, y_train_resample, y_test_new)"
   ]
  },
  {
   "cell_type": "markdown",
   "id": "0ca9e95f",
   "metadata": {},
   "source": [
    "<div style=\"text-align: center; background-color: yellow; padding: 10px;\">\n",
    "    <h2 style=\"font-weight: bold;\">NAIVE BAYES</h2>\n",
    "</div>"
   ]
  },
  {
   "cell_type": "code",
   "execution_count": 39,
   "id": "5e9a3693",
   "metadata": {},
   "outputs": [
    {
     "data": {
      "text/plain": [
       "GaussianNB()"
      ]
     },
     "execution_count": 39,
     "metadata": {},
     "output_type": "execute_result"
    }
   ],
   "source": [
    "model_nb = GaussianNB()\n",
    "model_nb.fit(x_train_os, y_train_os)"
   ]
  },
  {
   "cell_type": "code",
   "execution_count": 40,
   "id": "7dc290f3",
   "metadata": {},
   "outputs": [
    {
     "name": "stdout",
     "output_type": "stream",
     "text": [
      "TRAINIG RESULTS: \n",
      "===============================\n",
      "CONFUSION MATRIX:\n",
      "[[186663    284]\n",
      " [     0 186947]]\n",
      "ACCURACY SCORE:\n",
      "0.9992\n",
      "CLASSIFICATION REPORT:\n",
      "                       0              1  accuracy      macro avg  \\\n",
      "precision       1.000000       0.998483   0.99924       0.999242   \n",
      "recall          0.998481       1.000000   0.99924       0.999240   \n",
      "f1-score        0.999240       0.999241   0.99924       0.999240   \n",
      "support    186947.000000  186947.000000   0.99924  373894.000000   \n",
      "\n",
      "            weighted avg  \n",
      "precision       0.999242  \n",
      "recall          0.999240  \n",
      "f1-score        0.999240  \n",
      "support    373894.000000  \n",
      "TESTING RESULTS: \n",
      "===============================\n",
      "CONFUSION MATRIX:\n",
      "[[46746    58]\n",
      " [    0 11477]]\n",
      "ACCURACY SCORE:\n",
      "0.9990\n",
      "CLASSIFICATION REPORT:\n",
      "                      0             1  accuracy     macro avg  weighted avg\n",
      "precision      1.000000      0.994972  0.999005      0.997486      0.999010\n",
      "recall         0.998761      1.000000  0.999005      0.999380      0.999005\n",
      "f1-score       0.999380      0.997480  0.999005      0.998430      0.999006\n",
      "support    46804.000000  11477.000000  0.999005  58281.000000  58281.000000\n"
     ]
    }
   ],
   "source": [
    "evaluate(model_nb, x_train_os, x_test_scaled, y_train_os, y_test)"
   ]
  },
  {
   "cell_type": "markdown",
   "id": "aa5a6602",
   "metadata": {},
   "source": [
    "<div style=\"text-align: center; background-color: yellow; padding: 10px;\">\n",
    "    <h2 style=\"font-weight: bold;\">DECISION TREE</h2>\n",
    "</div>"
   ]
  },
  {
   "cell_type": "code",
   "execution_count": 41,
   "id": "81b30bab",
   "metadata": {},
   "outputs": [
    {
     "data": {
      "text/plain": [
       "DecisionTreeClassifier(random_state=42)"
      ]
     },
     "execution_count": 41,
     "metadata": {},
     "output_type": "execute_result"
    }
   ],
   "source": [
    "model_dt = DecisionTreeClassifier(random_state=42)\n",
    "model_dt.fit(x_train_os, y_train_os)"
   ]
  },
  {
   "cell_type": "code",
   "execution_count": 42,
   "id": "ec949e32",
   "metadata": {},
   "outputs": [
    {
     "name": "stdout",
     "output_type": "stream",
     "text": [
      "TRAINIG RESULTS: \n",
      "===============================\n",
      "CONFUSION MATRIX:\n",
      "[[186947      0]\n",
      " [     0 186947]]\n",
      "ACCURACY SCORE:\n",
      "1.0000\n",
      "CLASSIFICATION REPORT:\n",
      "                  0         1  accuracy  macro avg  weighted avg\n",
      "precision       1.0       1.0       1.0        1.0           1.0\n",
      "recall          1.0       1.0       1.0        1.0           1.0\n",
      "f1-score        1.0       1.0       1.0        1.0           1.0\n",
      "support    186947.0  186947.0       1.0   373894.0      373894.0\n",
      "TESTING RESULTS: \n",
      "===============================\n",
      "CONFUSION MATRIX:\n",
      "[[46804     0]\n",
      " [    0 11477]]\n",
      "ACCURACY SCORE:\n",
      "1.0000\n",
      "CLASSIFICATION REPORT:\n",
      "                 0        1  accuracy  macro avg  weighted avg\n",
      "precision      1.0      1.0       1.0        1.0           1.0\n",
      "recall         1.0      1.0       1.0        1.0           1.0\n",
      "f1-score       1.0      1.0       1.0        1.0           1.0\n",
      "support    46804.0  11477.0       1.0    58281.0       58281.0\n"
     ]
    }
   ],
   "source": [
    "evaluate(model_dt, x_train_os, x_test_scaled, y_train_os, y_test)"
   ]
  },
  {
   "cell_type": "markdown",
   "id": "4bbe1f61",
   "metadata": {},
   "source": [
    "<div style=\"text-align: center; background-color: yellow; padding: 10px;\">\n",
    "    <h2 style=\"font-weight: bold;\">SUPPORT VECTOR MACHINE</h2>\n",
    "</div>"
   ]
  },
  {
   "cell_type": "code",
   "execution_count": null,
   "id": "6caf4225",
   "metadata": {},
   "outputs": [],
   "source": [
    "model_svm = SVC(kernel='linear')\n",
    "model_svm.fit(x_train_os, y_train_os)"
   ]
  },
  {
   "cell_type": "code",
   "execution_count": null,
   "id": "bd761bb9",
   "metadata": {},
   "outputs": [],
   "source": [
    "evaluate(model_svm, x_train_os, x_test_scaled, y_train_os, y_test)"
   ]
  },
  {
   "cell_type": "markdown",
   "id": "0077ebd2",
   "metadata": {},
   "source": [
    "<div style=\"text-align: center; background-color: yellow; padding: 10px;\">\n",
    "    <h2 style=\"font-weight: bold;\">LIGHTGBM CLASSIFIER</h2>\n",
    "</div>"
   ]
  },
  {
   "cell_type": "code",
   "execution_count": null,
   "id": "09ec4c1b",
   "metadata": {},
   "outputs": [],
   "source": [
    "model_lgbm = LGBMClassifier()\n",
    "model_lgbm.fit(x_train_os, y_train_os)"
   ]
  },
  {
   "cell_type": "code",
   "execution_count": null,
   "id": "9898954f",
   "metadata": {},
   "outputs": [],
   "source": [
    "evaluate(model_lgbm, x_train_os, x_test_scaled, y_train_os, y_test)"
   ]
  },
  {
   "cell_type": "markdown",
   "id": "7e5a2076",
   "metadata": {},
   "source": [
    "### <span style='color:blue'>2] AUC SCORE </span> "
   ]
  },
  {
   "cell_type": "code",
   "execution_count": null,
   "id": "1eb550ad",
   "metadata": {},
   "outputs": [],
   "source": [
    "ml_models = {\n",
    "    'Logistic Regression': model_lr,\n",
    "    'Naive Bayes': model_nb,\n",
    "    'Decision Tree' :model_dt,\n",
    "    'Support Vector Machine' :model_svm,\n",
    "    'LightGBM':model_lgbm\n",
    "}\n",
    "\n",
    "for model in ml_models:\n",
    "    print(f\"{model.upper():{30}} roc_auc_score: {roc_auc_score(y_test, ml_models[model].predict(x_test_scaled)):.3f}\")"
   ]
  },
  {
   "cell_type": "code",
   "execution_count": null,
   "id": "c0cc60b6",
   "metadata": {},
   "outputs": [],
   "source": []
  },
  {
   "cell_type": "code",
   "execution_count": null,
   "id": "d126aff3",
   "metadata": {},
   "outputs": [],
   "source": []
  },
  {
   "cell_type": "code",
   "execution_count": null,
   "id": "6bda42b1",
   "metadata": {},
   "outputs": [],
   "source": []
  }
 ],
 "metadata": {
  "kernelspec": {
   "display_name": "Python 3 (ipykernel)",
   "language": "python",
   "name": "python3"
  },
  "language_info": {
   "codemirror_mode": {
    "name": "ipython",
    "version": 3
   },
   "file_extension": ".py",
   "mimetype": "text/x-python",
   "name": "python",
   "nbconvert_exporter": "python",
   "pygments_lexer": "ipython3",
   "version": "3.9.13"
  }
 },
 "nbformat": 4,
 "nbformat_minor": 5
}
